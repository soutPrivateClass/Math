{
 "cells": [
  {
   "cell_type": "markdown",
   "metadata": {},
   "source": [
    "# Dalam hal ini memanfaatkan library Sympy yang dikhususkan untuk matematika simbolis & aljabar.\n",
    "Contoh implementasi :"
   ]
  },
  {
   "cell_type": "code",
   "execution_count": 61,
   "metadata": {},
   "outputs": [],
   "source": [
    "import sympy as sym\n",
    "from IPython.display import display as display, Math\n",
    "import numpy as np\n",
    "\n",
    "\n",
    "# DEFINISI 1 VARIABEL :\n",
    "x = sym.symbols('x') # MENDEFINISIKN x SEBAGAI SIMBOL ALJABAR\n",
    "hasil = x**2\n",
    "display(hasil)\n",
    "\n",
    "# DEFINISI 2 VARIABEL :\n",
    "y,z = sym.symbols('y,z')\n",
    "hasil2 = x/y\n",
    "display(hasil2)\n",
    "\n",
    "# sqrt UNTUK SIMBOL AKAR :\n",
    "display(sym.sqrt(8)) # MENAMPILKAN TAMPILAN BILANGAN AKAR 8\n",
    "\n",
    "hasil3 = np.sqrt(8)\n",
    "display(hasil3) # MENAMPILKAN HASIL PERHITUNGAN AKAR DARI 8 MENGGUNAKAN FUNGSI NUMPY\n",
    "\n",
    "# IMPLEMENTASI SIMBOL - SIMBOL :\n",
    "\n",
    "# sigma = rataan / akar x + y pangkat 25 * z :\n",
    "display(Math('\\\\sigma = \\\\frac { \\\\mu } { \\\\sqrt{ x + y^{25 \\\\times z}}}'))\n",
    "\n",
    "# sin (3pi + 0) :\n",
    "display(Math('\\\\sin (3\\\\pi + \\\\theta)'))\n",
    "\n",
    "# SUPSCRIPT (ELEMENT DIBAWAH ANGKA)  :\n",
    "display(Math('x_{2}'))\n",
    "\n",
    "# FORMAT PENULISAN \\\\text : \n",
    "display(Math('\\\\text {Jumlah hasil persamaan = } \\\\frac {x}{y^{15}}'))\n",
    "\n",
    "# FUNGSI exponen : \n",
    "mu,alpha,sigma = sym.symbols('mu,alpha,sigma')\n",
    "a = mu + 45 + sym.exp(sigma + alpha) # exponen pangkat sigma + alpha \n",
    "display(a)\n",
    "\n",
    "# FUNGSI subs DENGAN MEMBERIKAN NILAI PADA 1 SIMBOL : \n",
    "x,y,z = sym.symbols('x,y,z')\n",
    "a = x + 10\n",
    "a.subs(x,2)\n",
    "\n",
    "# FUNGSI subs DENGAN MEMBERIKAN NILAI PADA 2 SIMBOL :\n",
    "x,y,z = sym.symbols('x,y,z')\n",
    "a = x + 10 + z**y\n",
    "a.subs({x:7,y:2})"
   ]
  },
  {
   "cell_type": "markdown",
   "metadata": {},
   "source": [
    "# Persoalan aljabar.\n",
    "Persamaan aljabar harus berupa persamaan yang homogenous yaitu semua angka & simbol harus pada sisi yang sama."
   ]
  },
  {
   "cell_type": "code",
   "execution_count": 178,
   "metadata": {},
   "outputs": [
    {
     "data": {
      "text/plain": [
       "[4 - y]"
      ]
     },
     "execution_count": 178,
     "metadata": {},
     "output_type": "execute_result"
    }
   ],
   "source": [
    "# CONTOH PERSAMAAN YANG TIDAK HOMOGENOUS :\n",
    "#5x + 5 = 20 \n",
    "\n",
    "# CONTOH PERSAMAAN YANG HOMOGENOUS :\n",
    "#5x + 5 - 20 = 0  \n",
    "#-5x - 5 + 20 = 0\n",
    "\n",
    "# IMPLEMENTASI FUNSGI sym UNTUK 1 SOLUSI SIMBOL (x) :\n",
    "x = sym.symbols('x')\n",
    "y = sym.symbols('y')\n",
    "\n",
    "operasi = 5*x + 5 - 20\n",
    "hasil = sym.solve(operasi)\n",
    "#display(Math('\\\\text {Persamaan dari %s adalah = %g}' %(sym.latex(operasi), hasil[0]))) # MENGGUNAKAN FORMAT LATEX (PERSAMAAN MATEMATIS)\n",
    "\n",
    "# IMPLEMENTASI FUNSGI sym UNTUK 1 SOLUSI PADA 2 SIMBOL (x) & (y) :\n",
    "operasi2 = 5*x + 5*y - 20\n",
    "hasil2 = sym.solve(operasi2,x) # SOLUSI UNTUK (x), ARTINYA (y) BERADA PADA SATU SISI \n",
    "hasil2\n"
   ]
  },
  {
   "cell_type": "markdown",
   "metadata": {},
   "source": [
    "# Hukum matematika aljabar."
   ]
  },
  {
   "cell_type": "code",
   "execution_count": 219,
   "metadata": {},
   "outputs": [
    {
     "data": {
      "text/latex": [
       "$\\displaystyle x^{y + z}$"
      ],
      "text/plain": [
       "x**(y + z)"
      ]
     },
     "metadata": {},
     "output_type": "display_data"
    },
    {
     "data": {
      "text/latex": [
       "$\\displaystyle x^{y - z}$"
      ],
      "text/plain": [
       "x**(y - z)"
      ]
     },
     "metadata": {},
     "output_type": "display_data"
    }
   ],
   "source": [
    "import sympy as sym\n",
    "from IPython.display import  display,Math\n",
    "\n",
    "# HUKUM EKSPONEN :\n",
    "\n",
    "# PERSAMAAN PERTAMA PENJUMLAHAN DENGAN PEMBILANG / VARIABEL SAMA, JIKA VARIABEL NYA SAMA, MAKA PANGKAT BISA DIGABUNGKAN\n",
    "x,y,z = sym.symbols('x,y,z')\n",
    "p1 = (x**y) * (x**z)\n",
    "display(sym.simplify(p1)) # METHOD .simplify UNTUK MENGGABUNGKAN PANGKAT\n",
    "\n",
    "# PERSAMAAN KEDUA PEMBAGIAN DENGAN PEMBILANG / VARIABEL SAMA, PANGKAT MENJADI (-) ketika dibagi\n",
    "p2 = (x**y) / (x**z)\n",
    "display(sym.simplify(p2))"
   ]
  },
  {
   "cell_type": "markdown",
   "metadata": {},
   "source": [
    "# Menjabarkan persamaan aljabar.\n",
    "\n",
    "contoh :\n",
    "- a(b+c) = ab+ac\n",
    "- (a+b)(c+d) = ac + ad + bc + bd \n",
    "- (a-b)((-c)+d) = (-ac) + ad + bc + (-bd) \n",
    "\n",
    "# Iplementasi pada python, sbb :"
   ]
  },
  {
   "cell_type": "code",
   "execution_count": 227,
   "metadata": {},
   "outputs": [
    {
     "data": {
      "text/latex": [
       "$\\displaystyle x^{3} + x^{2}$"
      ],
      "text/plain": [
       "x**3 + x**2"
      ]
     },
     "metadata": {},
     "output_type": "display_data"
    },
    {
     "data": {
      "text/latex": [
       "$\\displaystyle x^{11} + x^{10} + x^{3} y^{12} + x^{2} y^{12}$"
      ],
      "text/plain": [
       "x**11 + x**10 + x**3*y**12 + x**2*y**12"
      ]
     },
     "metadata": {},
     "output_type": "display_data"
    },
    {
     "data": {
      "text/latex": [
       "$\\displaystyle \\sqrt{y}$"
      ],
      "text/plain": [
       "sqrt(y)"
      ]
     },
     "metadata": {},
     "output_type": "display_data"
    },
    {
     "data": {
      "text/latex": [
       "$\\displaystyle \\frac{x^{11}}{\\sqrt{y}} + \\frac{x^{10}}{\\sqrt{y}} + x^{3} y^{\\frac{23}{2}} + x^{2} y^{\\frac{23}{2}}$"
      ],
      "text/plain": [
       "x**11/sqrt(y) + x**10/sqrt(y) + x**3*y**(23/2) + x**2*y**(23/2)"
      ]
     },
     "metadata": {},
     "output_type": "display_data"
    }
   ],
   "source": [
    "x,y,z = sym.symbols('x,y,z')\n",
    "\n",
    "p1 = (x**2) * (x+1)\n",
    "display(sym.expand(p1)) # .expand MEMECAHKAN HASIL YANG LEBIH SPESIFIK\n",
    "\n",
    "p2 = (y**12) + (x**8)\n",
    "display(sym.expand(p1*p2))\n",
    "\n",
    "p3 = sym.sqrt(y)\n",
    "display(p3)\n",
    "\n",
    "p4 = sym.expand(p1*p2/p3)\n",
    "display(p4)"
   ]
  },
  {
   "cell_type": "markdown",
   "metadata": {},
   "source": [
    "# Fungsi %whos.\n",
    "menampilkan variabel apa saja yang sudah dipakai atau diimplementasikan pada sebuah projek berjalan"
   ]
  },
  {
   "cell_type": "code",
   "execution_count": null,
   "metadata": {},
   "outputs": [],
   "source": [
    "%whos"
   ]
  },
  {
   "cell_type": "markdown",
   "metadata": {},
   "source": [
    "# Hukum Asosiatif.\n",
    "Biasa disebut hukum kurung\n",
    "- a(bc) = (ab)c | abc = abc\n",
    "- 4(5.6) = (4.5)6 | (4.30) . (20.6) | hasil = 120 \n",
    "\n",
    "# Hukum Komutatif.\n",
    "- ab = ba\n",
    "- abc = bca = cba\n",
    "- (2.6) = (6.2) | hasil = 12\n",
    "\n",
    "# Hukum Dsitributif.\n",
    "- x(y+z) = xy + xz\n",
    "- 2(3+4) | (2.3) + (2.4) | 6 + 8 | hasil = 14"
   ]
  },
  {
   "cell_type": "code",
   "execution_count": 312,
   "metadata": {},
   "outputs": [
    {
     "data": {
      "text/latex": [
       "$\\displaystyle 4 x^{2} y^{2}$"
      ],
      "text/plain": [
       "4*x**2*y**2"
      ]
     },
     "metadata": {},
     "output_type": "display_data"
    },
    {
     "data": {
      "text/latex": [
       "$\\displaystyle 529 x^{2} y^{2}$"
      ],
      "text/plain": [
       "529*x**2*y**2"
      ]
     },
     "metadata": {},
     "output_type": "display_data"
    }
   ],
   "source": [
    "import sympy as sym\n",
    "from IPython.display import display\n",
    "\n",
    "x,y,z = sym.symbols('x,y,z')\n",
    "\n",
    "# ASOSIATIF :\n",
    "p1 = 2*(x*y)\n",
    "p2 = (2*x)*y\n",
    "display(p1*p2)\n",
    "\n",
    "# KOMUTATIF :\n",
    "p3 = 23*x*y\n",
    "p4 = x*y*23\n",
    "display(p3*p4)\n",
    "\n",
    "# DISTRIBUTIF\n",
    "p5 = x*(y+z)"
   ]
  }
 ],
 "metadata": {
  "kernelspec": {
   "display_name": "Python 3",
   "language": "python",
   "name": "python3"
  },
  "language_info": {
   "codemirror_mode": {
    "name": "ipython",
    "version": 3
   },
   "file_extension": ".py",
   "mimetype": "text/x-python",
   "name": "python",
   "nbconvert_exporter": "python",
   "pygments_lexer": "ipython3",
   "version": "3.11.4"
  }
 },
 "nbformat": 4,
 "nbformat_minor": 2
}
